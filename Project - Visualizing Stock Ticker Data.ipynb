{
 "cells": [
  {
   "cell_type": "markdown",
   "metadata": {
    "slideshow": {
     "slide_type": "slide"
    }
   },
   "source": [
    "<div style=\"text-align: center\">\n",
    "    <h1>Infinite Skills &mdash; Intro to Python with IPython Notebook</h1>\n",
    "    <h2>Project: Visualizing Stock Ticker Data</h2>\n",
    "    <h2>James Powell &mdash; <a href=\"james@pythonquants.com\">james@pythonquants.com</a></h2>\n",
    "</div>"
   ]
  },
  {
   "cell_type": "code",
   "execution_count": 1,
   "metadata": {
    "collapsed": false,
    "slideshow": {
     "slide_type": "skip"
    }
   },
   "outputs": [],
   "source": [
    "from IPython.display import IFrame, display\n",
    "from __future__ import division, unicode_literals"
   ]
  },
  {
   "cell_type": "code",
   "execution_count": 2,
   "metadata": {
    "collapsed": false,
    "slideshow": {
     "slide_type": "fragment"
    }
   },
   "outputs": [
    {
     "data": {
      "text/html": [
       "\n",
       "        <iframe\n",
       "            width=\"100%\"\n",
       "            height=\"250\"\n",
       "            src=\"http://www.infiniteskills.com\"\n",
       "            frameborder=\"0\"\n",
       "            allowfullscreen\n",
       "        ></iframe>\n",
       "        "
      ],
      "text/plain": [
       "<IPython.lib.display.IFrame at 0x3adf7b8>"
      ]
     },
     "execution_count": 2,
     "metadata": {},
     "output_type": "execute_result"
    }
   ],
   "source": [
    "IFrame('http://www.infiniteskills.com', width='100%', height=250)"
   ]
  },
  {
   "cell_type": "markdown",
   "metadata": {
    "slideshow": {
     "slide_type": "slide"
    }
   },
   "source": [
    "Agenda \n",
    "------\n",
    "\n",
    "Project: Visualizing Stock Ticker Data\n",
    "    \n",
    "[Problem: description](#description)\n",
    "\n",
    "[Quandl](#quandl)\n",
    "\n",
    "[Data Basics: JSON](#json)\n",
    "\n",
    "[Anaconda Basics: installing packages (`requests`) with `conda`](#conda)\n",
    "\n",
    "[Python Basics: using `requests`](#requests)\n",
    "\n",
    "[Python Basics: objects & methods, dir, help](#objects)\n",
    "\n",
    "[Python Basics: comparison operations](#comparisons)\n",
    "\n",
    "[Python Basics: keyword arguments](#kwargs)\n",
    "\n",
    "[Python Basics: dictionaries](#types)\n",
    "\n",
    "[Python Basics: traversing structures](#dict)\n",
    "\n",
    "[Python Basics: `date`, `datetime`, `timedelta`](#datetime)\n",
    "\n",
    "[Python Basics: using `pandas`](#pandas)\n",
    "\n",
    "[Python Basics: `DataFrame.date` vs `DataFrame['date']`](#columns)\n",
    "\n",
    "[Python Basics: `DataFrame[x].apply`](#apply)\n",
    "\n",
    "[Python Basics: `DataFrame.plot`](#plot)\n",
    "\n",
    "[Python Basics: using `matplotlib`](#matplotlib)\n",
    "\n",
    "[Project: visualizing MSFT ticker data](#project)"
   ]
  },
  {
   "cell_type": "code",
   "execution_count": null,
   "metadata": {
    "collapsed": false,
    "slideshow": {
     "slide_type": "skip"
    }
   },
   "outputs": [],
   "source": [
    "from IPython.display import Javascript, display\n",
    "display(Javascript('''IPython.notebook.kernel.execute(\"filename = '\" + IPython.notebook.notebook_name + \"'\");'''))"
   ]
  },
  {
   "cell_type": "code",
   "execution_count": null,
   "metadata": {
    "collapsed": false,
    "slideshow": {
     "slide_type": "skip"
    }
   },
   "outputs": [],
   "source": [
    "from json import load\n",
    "with open(filename) as f:\n",
    "    nb = load(f)\n",
    "\n",
    "headings = [line for cell in nb['worksheets'][0]['cells']\n",
    "                     if cell['cell_type'] == 'markdown' and any(line.strip().startswith('Agenda') \n",
    "                                                                for line in cell['source'])\n",
    "                 for line in cell['source'] \n",
    "                     if '#' in line]\n",
    "\n",
    "for heading in headings:\n",
    "    if heading:\n",
    "        title, anchor = heading.strip()[1:-1].split('](')\n",
    "        print '<h2 id=\"{anchor}\">{title}</h2>'.format(title=title, anchor=anchor[1:])"
   ]
  },
  {
   "cell_type": "markdown",
   "metadata": {
    "slideshow": {
     "slide_type": "slide"
    }
   },
   "source": [
    "<h2 id=\"description\">Problem: description</h2>"
   ]
  },
  {
   "cell_type": "markdown",
   "metadata": {
    "slideshow": {
     "slide_type": "fragment"
    }
   },
   "source": [
    "Download ticker data for some commonly traded US stocks, manipulate this data using pandas, and plot the data."
   ]
  },
  {
   "cell_type": "code",
   "execution_count": null,
   "metadata": {
    "collapsed": false,
    "slideshow": {
     "slide_type": "fragment"
    }
   },
   "outputs": [],
   "source": [
    "IFrame('http://finance.google.com', width='100%', height=250)"
   ]
  },
  {
   "cell_type": "markdown",
   "metadata": {
    "slideshow": {
     "slide_type": "slide"
    }
   },
   "source": [
    "<h2 id=\"quandl\">Quandl</h2>"
   ]
  },
  {
   "cell_type": "code",
   "execution_count": null,
   "metadata": {
    "collapsed": false,
    "slideshow": {
     "slide_type": "fragment"
    }
   },
   "outputs": [],
   "source": [
    "IFrame('http://quandl.com', width='100%', height=250)"
   ]
  },
  {
   "cell_type": "markdown",
   "metadata": {
    "slideshow": {
     "slide_type": "slide"
    }
   },
   "source": [
    "<h2 id=\"json\">JSON</h2>"
   ]
  },
  {
   "cell_type": "code",
   "execution_count": null,
   "metadata": {
    "collapsed": false,
    "slideshow": {
     "slide_type": "fragment"
    }
   },
   "outputs": [],
   "source": [
    "IFrame('https://en.wikipedia.org/wiki/Json', width='100%', height=500)"
   ]
  },
  {
   "cell_type": "code",
   "execution_count": null,
   "metadata": {
    "collapsed": false,
    "slideshow": {
     "slide_type": "subslide"
    }
   },
   "outputs": [],
   "source": [
    "from IPython.display import Javascript\n",
    "Javascript('''IPython.notebook.kernel.execute(\"filename = '\" + IPython.notebook.notebook_name + \"'\");''')"
   ]
  },
  {
   "cell_type": "code",
   "execution_count": null,
   "metadata": {
    "collapsed": false,
    "slideshow": {
     "slide_type": "fragment"
    }
   },
   "outputs": [],
   "source": [
    "print filename"
   ]
  },
  {
   "cell_type": "code",
   "execution_count": null,
   "metadata": {
    "collapsed": false
   },
   "outputs": [],
   "source": [
    "with open(filename) as f:\n",
    "    for line in f.readlines()[0:5]:\n",
    "        print line"
   ]
  },
  {
   "cell_type": "code",
   "execution_count": null,
   "metadata": {
    "collapsed": false,
    "slideshow": {
     "slide_type": "subslide"
    }
   },
   "outputs": [],
   "source": [
    "from json import dumps\n",
    "dumps([1,2,3, ['four', 'five', 'six'], True, False, None])"
   ]
  },
  {
   "cell_type": "code",
   "execution_count": null,
   "metadata": {
    "collapsed": false,
    "slideshow": {
     "slide_type": "fragment"
    }
   },
   "outputs": [],
   "source": [
    "from json import loads\n",
    "loads('[100, 200, 300, true, false, null]')"
   ]
  },
  {
   "cell_type": "markdown",
   "metadata": {
    "slideshow": {
     "slide_type": "slide"
    }
   },
   "source": [
    "<h2 id=\"conda\">Anaconda Basics: installing packages (`requests`) with `conda`</h2>"
   ]
  },
  {
   "cell_type": "code",
   "execution_count": null,
   "metadata": {
    "collapsed": false,
    "slideshow": {
     "slide_type": "fragment"
    }
   },
   "outputs": [],
   "source": [
    "IFrame('http://conda.pydata.org/docs/faq.html', width='100%', height=350)"
   ]
  },
  {
   "cell_type": "code",
   "execution_count": null,
   "metadata": {
    "collapsed": false,
    "slideshow": {
     "slide_type": "subslide"
    }
   },
   "outputs": [],
   "source": [
    "#! conda list"
   ]
  },
  {
   "cell_type": "code",
   "execution_count": null,
   "metadata": {
    "collapsed": false,
    "slideshow": {
     "slide_type": "fragment"
    }
   },
   "outputs": [],
   "source": [
    "#! conda install requests"
   ]
  },
  {
   "cell_type": "code",
   "execution_count": null,
   "metadata": {
    "collapsed": false
   },
   "outputs": [],
   "source": [
    "import requests"
   ]
  },
  {
   "cell_type": "markdown",
   "metadata": {
    "slideshow": {
     "slide_type": "slide"
    }
   },
   "source": [
    "<h2 id=\"requests\">Python Basics: using `requests`</h2>"
   ]
  },
  {
   "cell_type": "code",
   "execution_count": null,
   "metadata": {
    "collapsed": false,
    "slideshow": {
     "slide_type": "subslide"
    }
   },
   "outputs": [],
   "source": [
    "from requests import get\n",
    "url = 'http://www.quandl.com/api/v1/datasets/GOOG/NASDAQ_MSFT.json?trim_start=1986-03-13&trim_end=2014-08-22'\n",
    "response = get(url)\n",
    "response"
   ]
  },
  {
   "cell_type": "code",
   "execution_count": null,
   "metadata": {
    "collapsed": false,
    "slideshow": {
     "slide_type": "fragment"
    }
   },
   "outputs": [],
   "source": [
    "response.json()"
   ]
  },
  {
   "cell_type": "markdown",
   "metadata": {
    "slideshow": {
     "slide_type": "slide"
    }
   },
   "source": [
    "<h2 id=\"objects\">Python Basics: objects & methods, `dir`, `help`</h2>"
   ]
  },
  {
   "cell_type": "code",
   "execution_count": null,
   "metadata": {
    "collapsed": false,
    "slideshow": {
     "slide_type": "subslide"
    }
   },
   "outputs": [],
   "source": [
    "len([1,2,3,4])"
   ]
  },
  {
   "cell_type": "code",
   "execution_count": null,
   "metadata": {
    "collapsed": false
   },
   "outputs": [],
   "source": [
    "sum([1,2,3,4])"
   ]
  },
  {
   "cell_type": "code",
   "execution_count": null,
   "metadata": {
    "collapsed": false,
    "slideshow": {
     "slide_type": "fragment"
    }
   },
   "outputs": [],
   "source": [
    "'infinite skills'.title()"
   ]
  },
  {
   "cell_type": "code",
   "execution_count": null,
   "metadata": {
    "collapsed": false
   },
   "outputs": [],
   "source": [
    "xs = []\n",
    "xs.append(2)\n",
    "xs"
   ]
  },
  {
   "cell_type": "code",
   "execution_count": null,
   "metadata": {
    "collapsed": false,
    "slideshow": {
     "slide_type": "subslide"
    }
   },
   "outputs": [],
   "source": [
    "help(get)"
   ]
  },
  {
   "cell_type": "code",
   "execution_count": null,
   "metadata": {
    "collapsed": false,
    "slideshow": {
     "slide_type": "fragment"
    }
   },
   "outputs": [],
   "source": [
    "get?"
   ]
  },
  {
   "cell_type": "code",
   "execution_count": null,
   "metadata": {
    "collapsed": false,
    "slideshow": {
     "slide_type": "fragment"
    }
   },
   "outputs": [],
   "source": [
    "dir(response)"
   ]
  },
  {
   "cell_type": "code",
   "execution_count": null,
   "metadata": {
    "collapsed": false,
    "slideshow": {
     "slide_type": "fragment"
    }
   },
   "outputs": [],
   "source": [
    "help(response.json)"
   ]
  },
  {
   "cell_type": "code",
   "execution_count": null,
   "metadata": {
    "collapsed": false,
    "slideshow": {
     "slide_type": "fragment"
    }
   },
   "outputs": [],
   "source": [
    "response.json?"
   ]
  },
  {
   "cell_type": "markdown",
   "metadata": {
    "slideshow": {
     "slide_type": "slide"
    }
   },
   "source": [
    "<h2 id=\"#comparisons\">Python Basics: comparison operations</h2>"
   ]
  },
  {
   "cell_type": "code",
   "execution_count": null,
   "metadata": {
    "collapsed": false,
    "slideshow": {
     "slide_type": "subslide"
    }
   },
   "outputs": [],
   "source": [
    "x = 100\n",
    "\n",
    "print 'x == 100', x == 100\n",
    "print 'x > 9', x > 9\n",
    "print 'x < 999', x < 999\n",
    "print 'x >= 100', x >= 100\n",
    "print 'x <= 1000', x <= 1000\n",
    "\n",
    "print\n",
    "print '100 == x', 100 == x\n",
    "print '9 < x', 9 < x\n",
    "print '999 > x', 999 > x\n",
    "print '100 <= x', 100 <= x\n",
    "print '1000 >= x', 1000 >= x\n",
    "\n",
    "print '9 < x and x < 999', 9 < x and x < 999\n",
    "print '9 < x < 999', 9 < x < 999"
   ]
  },
  {
   "cell_type": "code",
   "execution_count": null,
   "metadata": {
    "collapsed": false,
    "slideshow": {
     "slide_type": "subslide"
    }
   },
   "outputs": [],
   "source": [
    "print \"'asdf' > 'asd'\", 'asdf' > 'asd'\n",
    "print \"'bsdf' > 'asdf'\", 'bsdf' > 'asdf'\n",
    "print \"not ('asdf' > 'asdfg')\", not ('asdf' > 'asdfg')"
   ]
  },
  {
   "cell_type": "code",
   "execution_count": null,
   "metadata": {
    "collapsed": false,
    "slideshow": {
     "slide_type": "fragment"
    }
   },
   "outputs": [],
   "source": [
    "print \"(1,2) > (1,2,3)\", (1,2) > (1,2,3)"
   ]
  },
  {
   "cell_type": "code",
   "execution_count": null,
   "metadata": {
    "collapsed": false,
    "slideshow": {
     "slide_type": "subslide"
    }
   },
   "outputs": [],
   "source": [
    "from sys import version_info\n",
    "version_info"
   ]
  },
  {
   "cell_type": "code",
   "execution_count": null,
   "metadata": {
    "collapsed": false,
    "slideshow": {
     "slide_type": "fragment"
    }
   },
   "outputs": [],
   "source": [
    "print version_info > (2,6,5)"
   ]
  },
  {
   "cell_type": "code",
   "execution_count": null,
   "metadata": {
    "collapsed": false,
    "slideshow": {
     "slide_type": "fragment"
    }
   },
   "outputs": [],
   "source": [
    "print version_info >= (3,0,0)"
   ]
  },
  {
   "cell_type": "markdown",
   "metadata": {
    "slideshow": {
     "slide_type": "slide"
    }
   },
   "source": [
    "<h2 id=\"#kwargs\">Python Basics: keyword arguments</h2>"
   ]
  },
  {
   "cell_type": "code",
   "execution_count": null,
   "metadata": {
    "collapsed": false,
    "slideshow": {
     "slide_type": "subslide"
    }
   },
   "outputs": [],
   "source": [
    "def greeting(title, lastname):\n",
    "    print 'Hello,', title, lastname"
   ]
  },
  {
   "cell_type": "code",
   "execution_count": null,
   "metadata": {
    "collapsed": false,
    "slideshow": {
     "slide_type": "fragment"
    }
   },
   "outputs": [],
   "source": [
    "greeting('Mrs.', 'Robinson')"
   ]
  },
  {
   "cell_type": "code",
   "execution_count": null,
   "metadata": {
    "collapsed": false,
    "slideshow": {
     "slide_type": "subslide"
    }
   },
   "outputs": [],
   "source": [
    "def greeting(lastname, title='Mrs.'):\n",
    "    print 'Hello,', title, lastname    "
   ]
  },
  {
   "cell_type": "code",
   "execution_count": null,
   "metadata": {
    "collapsed": false,
    "slideshow": {
     "slide_type": "fragment"
    }
   },
   "outputs": [],
   "source": [
    "greeting('Robinson')"
   ]
  },
  {
   "cell_type": "code",
   "execution_count": null,
   "metadata": {
    "collapsed": false,
    "slideshow": {
     "slide_type": "fragment"
    }
   },
   "outputs": [],
   "source": [
    "greeting('Kotter', 'Mr.')"
   ]
  },
  {
   "cell_type": "code",
   "execution_count": null,
   "metadata": {
    "collapsed": false,
    "slideshow": {
     "slide_type": "fragment"
    }
   },
   "outputs": [],
   "source": [
    "greeting('Kotter', title='Mr.')"
   ]
  },
  {
   "cell_type": "code",
   "execution_count": null,
   "metadata": {
    "collapsed": false,
    "slideshow": {
     "slide_type": "fragment"
    }
   },
   "outputs": [],
   "source": [
    "greeting(title='Mr.', lastname='Kotter')"
   ]
  },
  {
   "cell_type": "markdown",
   "metadata": {
    "slideshow": {
     "slide_type": "slide"
    }
   },
   "source": [
    "<h2 id=\"#types\">Python Basics: dictionaries</h2>"
   ]
  },
  {
   "cell_type": "code",
   "execution_count": null,
   "metadata": {
    "collapsed": false,
    "slideshow": {
     "slide_type": "subslide"
    }
   },
   "outputs": [],
   "source": [
    "english = ['zero', 'one', 'two', 'three', 'four', 'five', 'six', 'seven', 'eight', 'nine', 'ten']\n",
    "spanish = ['cero', 'uno', 'dos', 'tres', 'cuatro', 'cinco', 'seis', 'siete', 'ocho', 'nueve', 'diez']\n",
    "\n",
    "print 'In English, you say:', english[3]\n",
    "print 'In Spanish, you say:', spanish[3]"
   ]
  },
  {
   "cell_type": "code",
   "execution_count": null,
   "metadata": {
    "collapsed": false,
    "slideshow": {
     "slide_type": "fragment"
    }
   },
   "outputs": [],
   "source": [
    "number = 'seven'\n",
    "idx = english.index(number)\n",
    "print spanish[idx]"
   ]
  },
  {
   "cell_type": "code",
   "execution_count": null,
   "metadata": {
    "collapsed": false,
    "slideshow": {
     "slide_type": "subslide"
    }
   },
   "outputs": [],
   "source": [
    "en_sp = {\n",
    "    'zero':  'cero',\n",
    "    'one':   'uno',\n",
    "    'two':   'dos',\n",
    "    'three': 'tres',\n",
    "    'four':  'cuatro',\n",
    "    'five':  'cinco',\n",
    "    'six':   'seis',\n",
    "    'seven': 'siete',\n",
    "    'eight': 'ocho',\n",
    "    'nine':  'nueve',\n",
    "    'ten':   'diez',\n",
    "}\n",
    "en_sp"
   ]
  },
  {
   "cell_type": "code",
   "execution_count": null,
   "metadata": {
    "collapsed": false,
    "slideshow": {
     "slide_type": "subslide"
    }
   },
   "outputs": [],
   "source": [
    "en_sp['seven']"
   ]
  },
  {
   "cell_type": "code",
   "execution_count": null,
   "metadata": {
    "collapsed": false
   },
   "outputs": [],
   "source": [
    "en_sp['siete']"
   ]
  },
  {
   "cell_type": "code",
   "execution_count": null,
   "metadata": {
    "collapsed": false,
    "slideshow": {
     "slide_type": "fragment"
    }
   },
   "outputs": [],
   "source": [
    "en_sp.keys()"
   ]
  },
  {
   "cell_type": "code",
   "execution_count": null,
   "metadata": {
    "collapsed": false,
    "slideshow": {
     "slide_type": "fragment"
    }
   },
   "outputs": [],
   "source": [
    "en_sp.values()"
   ]
  },
  {
   "cell_type": "code",
   "execution_count": null,
   "metadata": {
    "collapsed": false,
    "slideshow": {
     "slide_type": "fragment"
    }
   },
   "outputs": [],
   "source": [
    "en_sp.items()"
   ]
  },
  {
   "cell_type": "code",
   "execution_count": null,
   "metadata": {
    "collapsed": false,
    "slideshow": {
     "slide_type": "subslide"
    }
   },
   "outputs": [],
   "source": [
    "for en, sp in en_sp.items():\n",
    "    print 'In English, you say:', en\n",
    "    print 'In Spanish, you say:', sp\n",
    "    print"
   ]
  },
  {
   "cell_type": "code",
   "execution_count": null,
   "metadata": {
    "collapsed": false,
    "slideshow": {
     "slide_type": "fragment"
    }
   },
   "outputs": [],
   "source": [
    "en_sp['eleven'] = 'onze'"
   ]
  },
  {
   "cell_type": "code",
   "execution_count": null,
   "metadata": {
    "collapsed": false,
    "slideshow": {
     "slide_type": "fragment"
    }
   },
   "outputs": [],
   "source": [
    "en_sp['eleven']"
   ]
  },
  {
   "cell_type": "code",
   "execution_count": null,
   "metadata": {
    "collapsed": false,
    "slideshow": {
     "slide_type": "fragment"
    }
   },
   "outputs": [],
   "source": [
    "en_sp['eleven'] = 'once'"
   ]
  },
  {
   "cell_type": "code",
   "execution_count": null,
   "metadata": {
    "collapsed": false
   },
   "outputs": [],
   "source": [
    "en_sp['eleven']"
   ]
  },
  {
   "cell_type": "code",
   "execution_count": null,
   "metadata": {
    "collapsed": false,
    "slideshow": {
     "slide_type": "fragment"
    }
   },
   "outputs": [],
   "source": [
    "en_sp['doce'] = 'twelve'"
   ]
  },
  {
   "cell_type": "code",
   "execution_count": null,
   "metadata": {
    "collapsed": false,
    "slideshow": {
     "slide_type": "subslide"
    }
   },
   "outputs": [],
   "source": [
    "en_sp"
   ]
  },
  {
   "cell_type": "code",
   "execution_count": null,
   "metadata": {
    "collapsed": false,
    "slideshow": {
     "slide_type": "fragment"
    }
   },
   "outputs": [],
   "source": [
    "del en_sp['doce']\n",
    "en_sp['twelve'] = 'doce'"
   ]
  },
  {
   "cell_type": "code",
   "execution_count": null,
   "metadata": {
    "collapsed": false,
    "slideshow": {
     "slide_type": "fragment"
    }
   },
   "outputs": [],
   "source": [
    "en_sp"
   ]
  },
  {
   "cell_type": "code",
   "execution_count": null,
   "metadata": {
    "collapsed": false,
    "slideshow": {
     "slide_type": "subslide"
    }
   },
   "outputs": [],
   "source": [
    "from requests import get\n",
    "url = 'http://www.zompist.com/numbers.htm'\n",
    "response = get(url)\n",
    "content = response.content"
   ]
  },
  {
   "cell_type": "code",
   "execution_count": null,
   "metadata": {
    "collapsed": false,
    "slideshow": {
     "slide_type": "fragment"
    }
   },
   "outputs": [],
   "source": [
    "from bs4 import BeautifulSoup\n",
    "bs = BeautifulSoup(content)"
   ]
  },
  {
   "cell_type": "code",
   "execution_count": null,
   "metadata": {
    "collapsed": false,
    "slideshow": {
     "slide_type": "subslide"
    }
   },
   "outputs": [],
   "source": [
    "english = ['one', 'two', 'three', 'four', 'five', 'six', 'seven', 'eight', 'nine', 'ten']\n",
    "\n",
    "dictionaries = {}\n",
    "for group in bs.find_all('tr'):\n",
    "    language = group.find_all('td')[0].text\n",
    "    numbers = []\n",
    "    for td in group.find_all('td')[1:]:\n",
    "        numbers.append(td.text)\n",
    "    dictionaries[language] = {}\n",
    "    for en, num in zip(english, numbers):\n",
    "        dictionaries[language][en] = num        "
   ]
  },
  {
   "cell_type": "code",
   "execution_count": null,
   "metadata": {
    "collapsed": false,
    "slideshow": {
     "slide_type": "subslide"
    }
   },
   "outputs": [],
   "source": [
    "dictionaries.keys()"
   ]
  },
  {
   "cell_type": "code",
   "execution_count": null,
   "metadata": {
    "collapsed": false,
    "slideshow": {
     "slide_type": "fragment"
    }
   },
   "outputs": [],
   "source": [
    "dictionaries['French']"
   ]
  },
  {
   "cell_type": "code",
   "execution_count": null,
   "metadata": {
    "collapsed": false,
    "slideshow": {
     "slide_type": "fragment"
    }
   },
   "outputs": [],
   "source": [
    "print dictionaries['German']['eight']"
   ]
  },
  {
   "cell_type": "markdown",
   "metadata": {
    "slideshow": {
     "slide_type": "slide"
    }
   },
   "source": [
    "<h2 id=\"#dict\">Python Basics: traversing structures</h2>"
   ]
  },
  {
   "cell_type": "code",
   "execution_count": null,
   "metadata": {
    "collapsed": false,
    "slideshow": {
     "slide_type": "subslide"
    }
   },
   "outputs": [],
   "source": [
    "from IPython.display import Javascript\n",
    "Javascript('''IPython.notebook.kernel.execute(\"filename = '\" + IPython.notebook.notebook_name + \"'\");''')"
   ]
  },
  {
   "cell_type": "code",
   "execution_count": null,
   "metadata": {
    "collapsed": false,
    "slideshow": {
     "slide_type": "fragment"
    }
   },
   "outputs": [],
   "source": [
    "filename"
   ]
  },
  {
   "cell_type": "code",
   "execution_count": null,
   "metadata": {
    "collapsed": false,
    "slideshow": {
     "slide_type": "fragment"
    }
   },
   "outputs": [],
   "source": [
    "from json import load\n",
    "\n",
    "with open(filename) as f:\n",
    "    notebook = load(f)\n",
    "    \n",
    "notebook"
   ]
  },
  {
   "cell_type": "code",
   "execution_count": null,
   "metadata": {
    "collapsed": false
   },
   "outputs": [],
   "source": [
    "type(notebook)"
   ]
  },
  {
   "cell_type": "code",
   "execution_count": null,
   "metadata": {
    "collapsed": false,
    "slideshow": {
     "slide_type": "subslide"
    }
   },
   "outputs": [],
   "source": [
    "notebook['worksheets']"
   ]
  },
  {
   "cell_type": "code",
   "execution_count": null,
   "metadata": {
    "collapsed": false,
    "slideshow": {
     "slide_type": "fragment"
    }
   },
   "outputs": [],
   "source": [
    "notebook['worksheets'][0]"
   ]
  },
  {
   "cell_type": "code",
   "execution_count": null,
   "metadata": {
    "collapsed": false,
    "slideshow": {
     "slide_type": "fragment"
    }
   },
   "outputs": [],
   "source": [
    "notebook['worksheets'][0]['cells']"
   ]
  },
  {
   "cell_type": "code",
   "execution_count": null,
   "metadata": {
    "collapsed": false,
    "slideshow": {
     "slide_type": "fragment"
    }
   },
   "outputs": [],
   "source": [
    "notebook['worksheets'][0]['cells'][15]"
   ]
  },
  {
   "cell_type": "markdown",
   "metadata": {
    "slideshow": {
     "slide_type": "slide"
    }
   },
   "source": [
    "<h2 id=\"datetime\">Python Basics: `date`, `datetime`, `timedelta`</h2>"
   ]
  },
  {
   "cell_type": "code",
   "execution_count": null,
   "metadata": {
    "collapsed": false,
    "slideshow": {
     "slide_type": "subslide"
    }
   },
   "outputs": [],
   "source": [
    "from datetime import date\n",
    "\n",
    "new_years = date(2000,1,1)\n",
    "dir(new_years)"
   ]
  },
  {
   "cell_type": "code",
   "execution_count": null,
   "metadata": {
    "collapsed": false,
    "slideshow": {
     "slide_type": "fragment"
    }
   },
   "outputs": [],
   "source": [
    "new_years.year"
   ]
  },
  {
   "cell_type": "code",
   "execution_count": null,
   "metadata": {
    "collapsed": false,
    "slideshow": {
     "slide_type": "fragment"
    }
   },
   "outputs": [],
   "source": [
    "new_years.weekday()"
   ]
  },
  {
   "cell_type": "code",
   "execution_count": null,
   "metadata": {
    "collapsed": false,
    "slideshow": {
     "slide_type": "subslide"
    }
   },
   "outputs": [],
   "source": [
    "date(2000,2,29)"
   ]
  },
  {
   "cell_type": "code",
   "execution_count": null,
   "metadata": {
    "collapsed": false,
    "slideshow": {
     "slide_type": "fragment"
    }
   },
   "outputs": [],
   "source": [
    "date(1999,2,29)"
   ]
  },
  {
   "cell_type": "code",
   "execution_count": null,
   "metadata": {
    "collapsed": false,
    "slideshow": {
     "slide_type": "subslide"
    }
   },
   "outputs": [],
   "source": [
    "halloween = date(2000,10,31)"
   ]
  },
  {
   "cell_type": "code",
   "execution_count": null,
   "metadata": {
    "collapsed": false,
    "slideshow": {
     "slide_type": "fragment"
    }
   },
   "outputs": [],
   "source": [
    "halloween == new_years"
   ]
  },
  {
   "cell_type": "code",
   "execution_count": null,
   "metadata": {
    "collapsed": false,
    "slideshow": {
     "slide_type": "fragment"
    }
   },
   "outputs": [],
   "source": [
    "halloween > new_years"
   ]
  },
  {
   "cell_type": "code",
   "execution_count": null,
   "metadata": {
    "collapsed": false,
    "slideshow": {
     "slide_type": "fragment"
    }
   },
   "outputs": [],
   "source": [
    "halloween + new_years"
   ]
  },
  {
   "cell_type": "code",
   "execution_count": null,
   "metadata": {
    "collapsed": false,
    "slideshow": {
     "slide_type": "fragment"
    }
   },
   "outputs": [],
   "source": [
    "halloween - new_years"
   ]
  },
  {
   "cell_type": "code",
   "execution_count": null,
   "metadata": {
    "collapsed": false,
    "slideshow": {
     "slide_type": "subslide"
    }
   },
   "outputs": [],
   "source": [
    "from datetime import timedelta\n",
    "new_years + timedelta(days = 7)"
   ]
  },
  {
   "cell_type": "code",
   "execution_count": null,
   "metadata": {
    "collapsed": false,
    "slideshow": {
     "slide_type": "fragment"
    }
   },
   "outputs": [],
   "source": [
    "from datetime import datetime\n",
    "datetime(1999,12,31,23,59,59)"
   ]
  },
  {
   "cell_type": "code",
   "execution_count": null,
   "metadata": {
    "collapsed": false,
    "slideshow": {
     "slide_type": "fragment"
    }
   },
   "outputs": [],
   "source": [
    "datetime(2000,1,1) - timedelta(microseconds=1)"
   ]
  },
  {
   "cell_type": "markdown",
   "metadata": {
    "slideshow": {
     "slide_type": "slide"
    }
   },
   "source": [
    "<h2 id=\"#pandas\">Python Basics: using `pandas`</h2>"
   ]
  },
  {
   "cell_type": "code",
   "execution_count": null,
   "metadata": {
    "collapsed": false,
    "slideshow": {
     "slide_type": "fragment"
    }
   },
   "outputs": [],
   "source": [
    "IFrame('http://pandas.pydata.org/', width='100%', height=250)"
   ]
  },
  {
   "cell_type": "code",
   "execution_count": null,
   "metadata": {
    "collapsed": false,
    "slideshow": {
     "slide_type": "subslide"
    }
   },
   "outputs": [],
   "source": [
    "from pandas import DataFrame\n",
    "\n",
    "df = DataFrame(range(10), columns=['x'])\n",
    "df"
   ]
  },
  {
   "cell_type": "code",
   "execution_count": null,
   "metadata": {
    "collapsed": false,
    "slideshow": {
     "slide_type": "subslide"
    }
   },
   "outputs": [],
   "source": [
    "df['y'] = range(10,20)\n",
    "df"
   ]
  },
  {
   "cell_type": "code",
   "execution_count": null,
   "metadata": {
    "collapsed": false,
    "slideshow": {
     "slide_type": "subslide"
    }
   },
   "outputs": [],
   "source": [
    "df['z'] = df['x'] + df['y']\n",
    "df"
   ]
  },
  {
   "cell_type": "markdown",
   "metadata": {
    "slideshow": {
     "slide_type": "slide"
    }
   },
   "source": [
    "<h2 id=\"#columns\">Python Basics: `DataFrame.date` vs `DataFrame['date']`</h2>"
   ]
  },
  {
   "cell_type": "code",
   "execution_count": null,
   "metadata": {
    "collapsed": false,
    "slideshow": {
     "slide_type": "subslide"
    }
   },
   "outputs": [],
   "source": [
    "df['y']"
   ]
  },
  {
   "cell_type": "code",
   "execution_count": null,
   "metadata": {
    "collapsed": false,
    "slideshow": {
     "slide_type": "subslide"
    }
   },
   "outputs": [],
   "source": [
    "df.y"
   ]
  },
  {
   "cell_type": "code",
   "execution_count": null,
   "metadata": {
    "collapsed": false,
    "slideshow": {
     "slide_type": "subslide"
    }
   },
   "outputs": [],
   "source": [
    "df.iloc[0]"
   ]
  },
  {
   "cell_type": "code",
   "execution_count": null,
   "metadata": {
    "collapsed": false,
    "slideshow": {
     "slide_type": "fragment"
    }
   },
   "outputs": [],
   "source": [
    "df.loc[0]"
   ]
  },
  {
   "cell_type": "code",
   "execution_count": null,
   "metadata": {
    "collapsed": false,
    "slideshow": {
     "slide_type": "subslide"
    }
   },
   "outputs": [],
   "source": [
    "from string import ascii_lowercase\n",
    "\n",
    "df.index = list(ascii_lowercase[:len(df)])\n",
    "df"
   ]
  },
  {
   "cell_type": "code",
   "execution_count": null,
   "metadata": {
    "collapsed": false,
    "slideshow": {
     "slide_type": "fragment"
    }
   },
   "outputs": [],
   "source": [
    "df.iloc[1]"
   ]
  },
  {
   "cell_type": "code",
   "execution_count": null,
   "metadata": {
    "collapsed": false,
    "slideshow": {
     "slide_type": "fragment"
    }
   },
   "outputs": [],
   "source": [
    "df.loc['b']"
   ]
  },
  {
   "cell_type": "markdown",
   "metadata": {
    "slideshow": {
     "slide_type": "slide"
    }
   },
   "source": [
    "<h2 id=\"#apply\">Python Basics: `DataFrame[x].apply`</h2>"
   ]
  },
  {
   "cell_type": "code",
   "execution_count": null,
   "metadata": {
    "collapsed": false,
    "slideshow": {
     "slide_type": "subslide"
    }
   },
   "outputs": [],
   "source": [
    "from numpy import linspace\n",
    "\n",
    "linspace(0,10,num=9)"
   ]
  },
  {
   "cell_type": "code",
   "execution_count": null,
   "metadata": {
    "collapsed": false,
    "slideshow": {
     "slide_type": "fragment"
    }
   },
   "outputs": [],
   "source": [
    "linspace(0,10,num=9)"
   ]
  },
  {
   "cell_type": "code",
   "execution_count": null,
   "metadata": {
    "collapsed": false,
    "slideshow": {
     "slide_type": "subslide"
    }
   },
   "outputs": [],
   "source": [
    "from pandas import DataFrame\n",
    "from numpy import linspace\n",
    "from math import pi, sin\n",
    "\n",
    "df = DataFrame(linspace(-2*pi, 2*pi, 1001), columns=['x'])\n",
    "df['y'] = df['x'].apply(sin)\n",
    "df.head()"
   ]
  },
  {
   "cell_type": "code",
   "execution_count": null,
   "metadata": {
    "collapsed": false,
    "slideshow": {
     "slide_type": "fragment"
    }
   },
   "outputs": [],
   "source": [
    "df.iloc[500]"
   ]
  },
  {
   "cell_type": "markdown",
   "metadata": {
    "slideshow": {
     "slide_type": "slide"
    }
   },
   "source": [
    "<h2 id=\"#plot\">Python Basics: `DataFrame.plot`</h2>"
   ]
  },
  {
   "cell_type": "code",
   "execution_count": null,
   "metadata": {
    "collapsed": false,
    "slideshow": {
     "slide_type": "subslide"
    }
   },
   "outputs": [],
   "source": [
    "%matplotlib inline"
   ]
  },
  {
   "cell_type": "code",
   "execution_count": null,
   "metadata": {
    "collapsed": false,
    "slideshow": {
     "slide_type": "subslide"
    }
   },
   "outputs": [],
   "source": [
    "from pandas import DataFrame\n",
    "from numpy import linspace, pi, cos, sin\n",
    "\n",
    "df = DataFrame(linspace(-2*pi, 2*pi, 1001), columns=['x'])\n",
    "df['y'] = cos(df['x'])\n",
    "df['z'] = sin(df['x'])\n",
    "df['y'].plot()\n",
    "df['x'].plot()\n",
    "df['z'].plot()"
   ]
  },
  {
   "cell_type": "code",
   "execution_count": null,
   "metadata": {
    "collapsed": false,
    "slideshow": {
     "slide_type": "subslide"
    }
   },
   "outputs": [],
   "source": [
    "df.index = df['x']\n",
    "df.drop('x', axis=1, inplace=True)\n",
    "df.plot()"
   ]
  },
  {
   "cell_type": "code",
   "execution_count": null,
   "metadata": {
    "collapsed": false,
    "slideshow": {
     "slide_type": "subslide"
    }
   },
   "outputs": [],
   "source": [
    "from pandas import DataFrame\n",
    "from numpy import linspace, log\n",
    "from scipy.misc import factorial\n",
    "\n",
    "df = DataFrame(index=linspace(0,100,1000)[1:])\n",
    "\n",
    "df['constant']     = 1\n",
    "df['linear']       = linspace(0,100,1000)[1:]\n",
    "df['quadratic']    = df['linear'] ** 2\n",
    "df['cubic']        = df['linear'] ** 3\n",
    "df['logarithmic']  = log(df['linear'])\n",
    "df['linearithmic'] = df['linear'] * log(df['linear'])\n",
    "df['factorial']    = factorial(df['linear'])\n",
    "df['exponential']  = 2 ** df['linear']\n",
    "\n",
    "df.head()"
   ]
  },
  {
   "cell_type": "code",
   "execution_count": null,
   "metadata": {
    "collapsed": false,
    "slideshow": {
     "slide_type": "subslide"
    }
   },
   "outputs": [],
   "source": [
    "df.plot()"
   ]
  },
  {
   "cell_type": "code",
   "execution_count": null,
   "metadata": {
    "collapsed": false,
    "slideshow": {
     "slide_type": "subslide"
    }
   },
   "outputs": [],
   "source": [
    "df[['linearithmic', 'logarithmic', 'linear']].plot()"
   ]
  },
  {
   "cell_type": "code",
   "execution_count": null,
   "metadata": {
    "collapsed": false,
    "slideshow": {
     "slide_type": "subslide"
    }
   },
   "outputs": [],
   "source": [
    "df[:2.5].plot()"
   ]
  },
  {
   "cell_type": "markdown",
   "metadata": {
    "slideshow": {
     "slide_type": "slide"
    }
   },
   "source": [
    "<h2 id=\"#matplotlib\">Python Basics: using `matplotlib`</h2>"
   ]
  },
  {
   "cell_type": "code",
   "execution_count": null,
   "metadata": {
    "collapsed": false,
    "slideshow": {
     "slide_type": "subslide"
    }
   },
   "outputs": [],
   "source": [
    "from pandas import DataFrame\n",
    "from numpy import linspace, log\n",
    "from scipy.misc import factorial\n",
    "\n",
    "df = DataFrame(index=linspace(0,100,1000)[1:])\n",
    "\n",
    "df['constant']     = 1\n",
    "df['linear']       = linspace(0,100,1000)[1:]\n",
    "df['quadratic']    = df['linear'] ** 2\n",
    "df['cubic']        = df['linear'] ** 3\n",
    "df['logarithmic']  = log(df['linear'])\n",
    "df['linearithmic'] = df['linear'] * log(df['linear'])\n",
    "df['factorial']    = factorial(df['linear'])\n",
    "df['exponential']  = 2 ** df['linear']\n",
    "\n",
    "df.head()"
   ]
  },
  {
   "cell_type": "code",
   "execution_count": null,
   "metadata": {
    "collapsed": false,
    "slideshow": {
     "slide_type": "subslide"
    }
   },
   "outputs": [],
   "source": [
    "from matplotlib.pyplot import plot, axes\n",
    "\n",
    "plot(df.index, df['logarithmic'], 'g-', label='logarithmic')\n",
    "plot(df.index, df['linear'],      'b-', label='linear')\n",
    "\n",
    "axes().set_ylim((0,50))\n",
    "axes().set_xlim((0,20))\n",
    "axes().legend(loc='upper right')"
   ]
  },
  {
   "cell_type": "code",
   "execution_count": null,
   "metadata": {
    "collapsed": false,
    "slideshow": {
     "slide_type": "subslide"
    }
   },
   "outputs": [],
   "source": [
    "from matplotlib.pyplot import subplots\n",
    "\n",
    "fig, axes = subplots(nrows=1, ncols=2, figsize=(30,10))\n",
    "\n",
    "axes[0].plot(df.index, df['logarithmic'], 'g-', label='logarithmic')\n",
    "axes[0].plot(df.index, df['linear'],      'b-', label='linear')\n",
    "axes[0].legend(loc='center right')\n",
    "\n",
    "axes[1].plot(df.index, df['linearithmic'], 'g-', label='linearithmic')\n",
    "axes[1].plot(df.index, df['linear'],       'b-', label='linear')\n",
    "axes[1].legend(loc='center right')"
   ]
  },
  {
   "cell_type": "markdown",
   "metadata": {
    "slideshow": {
     "slide_type": "slide"
    }
   },
   "source": [
    "<h2 id=\"#project\">Project: visualizing MSFT ticker data</h2>"
   ]
  },
  {
   "cell_type": "code",
   "execution_count": 1,
   "metadata": {
    "collapsed": false
   },
   "outputs": [],
   "source": [
    "%matplotlib inline"
   ]
  },
  {
   "cell_type": "code",
   "execution_count": 4,
   "metadata": {
    "collapsed": false,
    "slideshow": {
     "slide_type": "subslide"
    }
   },
   "outputs": [
    {
     "data": {
      "text/plain": [
       "<Response [200]>"
      ]
     },
     "execution_count": 4,
     "metadata": {},
     "output_type": "execute_result"
    }
   ],
   "source": [
    "from requests import get\n",
    "url = 'http://www.quandl.com/api/v1/datasets/GOOG/NASDAQ_MSFT.json?trim_start=1986-03-13&trim_end=2014-08-22&order=asc'\n",
    "response = get(url)\n",
    "response"
   ]
  },
  {
   "cell_type": "code",
   "execution_count": 5,
   "metadata": {
    "collapsed": false,
    "slideshow": {
     "slide_type": "fragment"
    }
   },
   "outputs": [
    {
     "name": "stdout",
     "output_type": "stream",
     "text": [
      "[u'column_names', u'code', u'source_name', u'name', u'display_url', u'urlize_name', u'data', u'updated_at', u'private', u'from_date', u'errors', u'frequency', u'to_date', u'premium', u'source_code', u'type', u'id', u'description']\n"
     ]
    }
   ],
   "source": [
    "print response.json().keys()"
   ]
  },
  {
   "cell_type": "code",
   "execution_count": 6,
   "metadata": {
    "collapsed": false,
    "slideshow": {
     "slide_type": "fragment"
    }
   },
   "outputs": [
    {
     "data": {
      "text/plain": [
       "[u'1986-03-13', 0.0, None, None, 0.1, 30758400.0]"
      ]
     },
     "execution_count": 6,
     "metadata": {},
     "output_type": "execute_result"
    }
   ],
   "source": [
    "response.json()['data'][0]"
   ]
  },
  {
   "cell_type": "code",
   "execution_count": 9,
   "metadata": {
    "collapsed": false,
    "slideshow": {
     "slide_type": "subslide"
    }
   },
   "outputs": [
    {
     "data": {
      "text/html": [
       "<div style=\"max-height:1000px;max-width:1500px;overflow:auto;\">\n",
       "<table border=\"1\" class=\"dataframe\">\n",
       "  <thead>\n",
       "    <tr style=\"text-align: right;\">\n",
       "      <th></th>\n",
       "      <th>Date</th>\n",
       "      <th>Open</th>\n",
       "      <th>High</th>\n",
       "      <th>Low</th>\n",
       "      <th>Close</th>\n",
       "      <th>Volume</th>\n",
       "    </tr>\n",
       "    <tr>\n",
       "      <th>Date</th>\n",
       "      <th></th>\n",
       "      <th></th>\n",
       "      <th></th>\n",
       "      <th></th>\n",
       "      <th></th>\n",
       "      <th></th>\n",
       "    </tr>\n",
       "  </thead>\n",
       "  <tbody>\n",
       "    <tr>\n",
       "      <th>1986-03-13</th>\n",
       "      <td> 1986-03-13</td>\n",
       "      <td> 0</td>\n",
       "      <td>NaN</td>\n",
       "      <td>NaN</td>\n",
       "      <td> 0.1</td>\n",
       "      <td> 30758400</td>\n",
       "    </tr>\n",
       "    <tr>\n",
       "      <th>1986-03-14</th>\n",
       "      <td> 1986-03-14</td>\n",
       "      <td> 0</td>\n",
       "      <td>NaN</td>\n",
       "      <td>NaN</td>\n",
       "      <td> 0.1</td>\n",
       "      <td>  7852896</td>\n",
       "    </tr>\n",
       "    <tr>\n",
       "      <th>1986-03-17</th>\n",
       "      <td> 1986-03-17</td>\n",
       "      <td> 0</td>\n",
       "      <td>NaN</td>\n",
       "      <td>NaN</td>\n",
       "      <td> 0.1</td>\n",
       "      <td> 33036768</td>\n",
       "    </tr>\n",
       "    <tr>\n",
       "      <th>1986-03-18</th>\n",
       "      <td> 1986-03-18</td>\n",
       "      <td> 0</td>\n",
       "      <td>NaN</td>\n",
       "      <td>NaN</td>\n",
       "      <td> 0.1</td>\n",
       "      <td> 66403296</td>\n",
       "    </tr>\n",
       "    <tr>\n",
       "      <th>1986-03-19</th>\n",
       "      <td> 1986-03-19</td>\n",
       "      <td> 0</td>\n",
       "      <td>NaN</td>\n",
       "      <td>NaN</td>\n",
       "      <td> 0.1</td>\n",
       "      <td> 47846304</td>\n",
       "    </tr>\n",
       "  </tbody>\n",
       "</table>\n",
       "</div>"
      ],
      "text/plain": [
       "                  Date  Open  High  Low  Close    Volume\n",
       "Date                                                    \n",
       "1986-03-13  1986-03-13     0   NaN  NaN    0.1  30758400\n",
       "1986-03-14  1986-03-14     0   NaN  NaN    0.1   7852896\n",
       "1986-03-17  1986-03-17     0   NaN  NaN    0.1  33036768\n",
       "1986-03-18  1986-03-18     0   NaN  NaN    0.1  66403296\n",
       "1986-03-19  1986-03-19     0   NaN  NaN    0.1  47846304"
      ]
     },
     "execution_count": 9,
     "metadata": {},
     "output_type": "execute_result"
    }
   ],
   "source": [
    "from pandas import DataFrame\n",
    "\n",
    "json = response.json()\n",
    "df = DataFrame(json['data'], columns=json['column_names'])\n",
    "df.index = df.Date\n",
    "df.head()"
   ]
  },
  {
   "cell_type": "code",
   "execution_count": 10,
   "metadata": {
    "collapsed": false,
    "slideshow": {
     "slide_type": "subslide"
    }
   },
   "outputs": [
    {
     "data": {
      "text/plain": [
       "<matplotlib.axes.AxesSubplot at 0xc17c128>"
      ]
     },
     "execution_count": 10,
     "metadata": {},
     "output_type": "execute_result"
    },
    {
     "data": {
      "image/png": "[encoded data removed]",
      "text/plain": [
       "<matplotlib.figure.Figure at 0x41f7c88>"
      ]
     },
     "metadata": {},
     "output_type": "display_data"
    }
   ],
   "source": [
    "df['Close'].plot()"
   ]
  },
  {
   "cell_type": "code",
   "execution_count": 11,
   "metadata": {
    "collapsed": false,
    "slideshow": {
     "slide_type": "subslide"
    }
   },
   "outputs": [
    {
     "data": {
      "text/plain": [
       "Date       1986-03-13\n",
       "Open                0\n",
       "High              NaN\n",
       "Low               NaN\n",
       "Close             0.1\n",
       "Volume    3.07584e+07\n",
       "Name: 1986-03-13, dtype: object"
      ]
     },
     "execution_count": 11,
     "metadata": {},
     "output_type": "execute_result"
    }
   ],
   "source": [
    "df.iloc[0]"
   ]
  },
  {
   "cell_type": "code",
   "execution_count": 12,
   "metadata": {
    "collapsed": false,
    "slideshow": {
     "slide_type": "fragment"
    }
   },
   "outputs": [
    {
     "data": {
      "text/plain": [
       "Index([u'1986-03-13', u'1986-03-14', u'1986-03-17', u'1986-03-18', u'1986-03-19', u'1986-03-20', u'1986-03-21', u'1986-03-24', u'1986-03-25', u'1986-03-26', u'1986-03-27', u'1986-03-31', u'1986-04-01', u'1986-04-02', u'1986-04-03', u'1986-04-04', u'1986-04-07', u'1986-04-08', u'1986-04-09', u'1986-04-10', u'1986-04-11', u'1986-04-14', u'1986-04-15', u'1986-04-16', u'1986-04-17', u'1986-04-18', u'1986-04-21', u'1986-04-22', u'1986-04-23', u'1986-04-24', u'1986-04-25', u'1986-04-28', u'1986-04-29', u'1986-04-30', u'1986-05-01', u'1986-05-02', u'1986-05-05', u'1986-05-06', u'1986-05-07', u'1986-05-08', u'1986-05-09', u'1986-05-12', u'1986-05-13', u'1986-05-14', u'1986-05-15', u'1986-05-16', u'1986-05-19', u'1986-05-20', u'1986-05-21', u'1986-05-22', u'1986-05-23', u'1986-05-27', u'1986-05-28', u'1986-05-29', u'1986-05-30', u'1986-06-02', u'1986-06-03', u'1986-06-04', u'1986-06-05', u'1986-06-06', u'1986-06-09', u'1986-06-10', u'1986-06-11', u'1986-06-12', u'1986-06-13', u'1986-06-16', u'1986-06-17', u'1986-06-18', u'1986-06-19', u'1986-06-20', u'1986-06-23', u'1986-06-24', u'1986-06-25', u'1986-06-26', u'1986-06-27', u'1986-06-30', u'1986-07-01', u'1986-07-02', u'1986-07-03', u'1986-07-07', u'1986-07-08', u'1986-07-09', u'1986-07-10', u'1986-07-11', u'1986-07-14', u'1986-07-15', u'1986-07-16', u'1986-07-17', u'1986-07-18', u'1986-07-21', u'1986-07-22', u'1986-07-23', u'1986-07-24', u'1986-07-25', u'1986-07-28', u'1986-07-29', u'1986-07-30', u'1986-07-31', u'1986-08-01', u'1986-08-04', ...], dtype='object')"
      ]
     },
     "execution_count": 12,
     "metadata": {},
     "output_type": "execute_result"
    }
   ],
   "source": [
    "df.index"
   ]
  },
  {
   "cell_type": "code",
   "execution_count": 13,
   "metadata": {
    "collapsed": false,
    "slideshow": {
     "slide_type": "subslide"
    }
   },
   "outputs": [],
   "source": [
    "from dateutil.parser import parse\n",
    "\n",
    "df.index = df['Date'].apply(parse)"
   ]
  },
  {
   "cell_type": "code",
   "execution_count": 14,
   "metadata": {
    "collapsed": false,
    "slideshow": {
     "slide_type": "fragment"
    }
   },
   "outputs": [
    {
     "data": {
      "text/plain": [
       "<class 'pandas.tseries.index.DatetimeIndex'>\n",
       "[1986-03-13, ..., 2014-08-22]\n",
       "Length: 7187, Freq: None, Timezone: None"
      ]
     },
     "execution_count": 14,
     "metadata": {},
     "output_type": "execute_result"
    }
   ],
   "source": [
    "df.index"
   ]
  },
  {
   "cell_type": "code",
   "execution_count": 15,
   "metadata": {
    "collapsed": false,
    "slideshow": {
     "slide_type": "subslide"
    }
   },
   "outputs": [
    {
     "data": {
      "text/plain": [
       "<matplotlib.axes.AxesSubplot at 0xc95d588>"
      ]
     },
     "execution_count": 15,
     "metadata": {},
     "output_type": "execute_result"
    },
    {
     "data": {
      "image/png": "[encoded data removed]",
      "text/plain": [
       "<matplotlib.figure.Figure at 0xc5ce6a0>"
      ]
     },
     "metadata": {},
     "output_type": "display_data"
    }
   ],
   "source": [
    "df['Close'].plot()"
   ]
  },
  {
   "cell_type": "code",
   "execution_count": 16,
   "metadata": {
    "collapsed": false,
    "slideshow": {
     "slide_type": "subslide"
    }
   },
   "outputs": [
    {
     "data": {
      "text/plain": [
       "<matplotlib.axes.AxesSubplot at 0xca5b668>"
      ]
     },
     "execution_count": 16,
     "metadata": {},
     "output_type": "execute_result"
    },
    {
     "data": {
      "image/png": "[encoded data removed]",
      "text/plain": [
       "<matplotlib.figure.Figure at 0xca3fb70>"
      ]
     },
     "metadata": {},
     "output_type": "display_data"
    }
   ],
   "source": [
    "from numpy import log\n",
    "\n",
    "df['Returns'] = log(df['Close'] / df['Close'].shift(1)).cumsum()\n",
    "df['Returns'].plot()"
   ]
  },
  {
   "cell_type": "markdown",
   "metadata": {
    "slideshow": {
     "slide_type": "subslide"
    }
   },
   "source": [
    "$$log(x) + log(y) =  log(x y)$$\n",
    "\n",
    "$$log(x) - log(y) =  log(\\frac{x}{y})$$"
   ]
  },
  {
   "cell_type": "markdown",
   "metadata": {
    "slideshow": {
     "slide_type": "fragment"
    }
   },
   "source": [
    "$$log(\\frac{t_{1}}{t_{0}}) + log(\\frac{t_{2}}{t_{1}}) + \\ldots  + log(\\frac{t_{n}}{t_{n-1}})$$"
   ]
  },
  {
   "cell_type": "markdown",
   "metadata": {
    "slideshow": {
     "slide_type": "fragment"
    }
   },
   "source": [
    "$$log(t_{1}) - log(t_{0}) + log(t_{2}) - log(t_{1}) + \\ldots  + log(t_{n}) - log(t_{n-1})$$"
   ]
  },
  {
   "cell_type": "markdown",
   "metadata": {
    "slideshow": {
     "slide_type": "fragment"
    }
   },
   "source": [
    "$$log(t_{n}) - log(t_{0})$$"
   ]
  },
  {
   "cell_type": "markdown",
   "metadata": {
    "slideshow": {
     "slide_type": "fragment"
    }
   },
   "source": [
    "$$log(\\frac{t_{n}}{t_{0}})$$"
   ]
  },
  {
   "cell_type": "code",
   "execution_count": 19,
   "metadata": {
    "collapsed": false,
    "slideshow": {
     "slide_type": "subslide"
    }
   },
   "outputs": [
    {
     "data": {
      "text/html": [
       "\n",
       "        <iframe\n",
       "            width=\"100%\"\n",
       "            height=500\"\n",
       "            src=\"http://en.wikipedia.org/wiki/Timeline_of_Microsoft_Windows\"\n",
       "            frameborder=\"0\"\n",
       "            allowfullscreen\n",
       "        ></iframe>\n",
       "        "
      ],
      "text/plain": [
       "<IPython.lib.display.IFrame at 0xdcf6358>"
      ]
     },
     "execution_count": 19,
     "metadata": {},
     "output_type": "execute_result"
    }
   ],
   "source": [
    "IFrame('http://en.wikipedia.org/wiki/Timeline_of_Microsoft_Windows', width='100%', height=500)"
   ]
  },
  {
   "cell_type": "code",
   "execution_count": 24,
   "metadata": {
    "collapsed": false,
    "slideshow": {
     "slide_type": "subslide"
    }
   },
   "outputs": [],
   "source": [
    "from dateutil.parser import parse\n",
    "\n",
    "win95 = parse('24 August 1995')\n",
    "win98 = parse('25 June 1998')\n",
    "win2k = parse('17 February 2000')"
   ]
  },
  {
   "cell_type": "code",
   "execution_count": 26,
   "metadata": {
    "collapsed": false
   },
   "outputs": [
    {
     "data": {
      "text/plain": [
       "True"
      ]
     },
     "execution_count": 26,
     "metadata": {},
     "output_type": "execute_result"
    }
   ],
   "source": [
    "from datetime import date\n",
    "parse('24 August 1995').date() == date(1995,8,24)"
   ]
  },
  {
   "cell_type": "code",
   "execution_count": 27,
   "metadata": {
    "collapsed": false
   },
   "outputs": [
    {
     "data": {
      "text/plain": [
       "datetime.datetime(1995, 8, 24, 0, 0)"
      ]
     },
     "execution_count": 27,
     "metadata": {},
     "output_type": "execute_result"
    }
   ],
   "source": [
    "win95"
   ]
  },
  {
   "cell_type": "code",
   "execution_count": 32,
   "metadata": {
    "collapsed": false,
    "slideshow": {
     "slide_type": "subslide"
    }
   },
   "outputs": [
    {
     "data": {
      "text/plain": [
       "<matplotlib.axes.AxesSubplot at 0xe74fa90>"
      ]
     },
     "execution_count": 32,
     "metadata": {},
     "output_type": "execute_result"
    },
    {
     "data": {
      "image/png": "[encoded data removed]",
      "text/plain": [
       "<matplotlib.figure.Figure at 0xe1ca400>"
      ]
     },
     "metadata": {},
     "output_type": "display_data"
    }
   ],
   "source": [
    "from datetime import timedelta\n",
    "\n",
    "from_dt = win2k - timedelta(days=30)\n",
    "to_dt   = win2k + timedelta(days=90)\n",
    "\n",
    "df[from_dt:to_dt]['Returns'].plot()"
   ]
  },
  {
   "cell_type": "code",
   "execution_count": 33,
   "metadata": {
    "collapsed": false,
    "slideshow": {
     "slide_type": "subslide"
    }
   },
   "outputs": [
    {
     "data": {
      "text/html": [
       "<div style=\"max-height:1000px;max-width:1500px;overflow:auto;\">\n",
       "<table border=\"1\" class=\"dataframe\">\n",
       "  <thead>\n",
       "    <tr style=\"text-align: right;\">\n",
       "      <th></th>\n",
       "      <th>Date</th>\n",
       "      <th>Open</th>\n",
       "      <th>High</th>\n",
       "      <th>Low</th>\n",
       "      <th>Close</th>\n",
       "      <th>Volume</th>\n",
       "      <th>Adjusted Close</th>\n",
       "      <th>Returns</th>\n",
       "    </tr>\n",
       "    <tr>\n",
       "      <th>Date</th>\n",
       "      <th></th>\n",
       "      <th></th>\n",
       "      <th></th>\n",
       "      <th></th>\n",
       "      <th></th>\n",
       "      <th></th>\n",
       "      <th></th>\n",
       "      <th></th>\n",
       "    </tr>\n",
       "  </thead>\n",
       "  <tbody>\n",
       "    <tr>\n",
       "      <th>1950-01-03</th>\n",
       "      <td> 1950-01-03</td>\n",
       "      <td> 16.66</td>\n",
       "      <td> 16.66</td>\n",
       "      <td> 16.66</td>\n",
       "      <td> 16.66</td>\n",
       "      <td> 1260000</td>\n",
       "      <td> 16.66</td>\n",
       "      <td>      NaN</td>\n",
       "    </tr>\n",
       "    <tr>\n",
       "      <th>1950-01-04</th>\n",
       "      <td> 1950-01-04</td>\n",
       "      <td> 16.85</td>\n",
       "      <td> 16.85</td>\n",
       "      <td> 16.85</td>\n",
       "      <td> 16.85</td>\n",
       "      <td> 1890000</td>\n",
       "      <td> 16.85</td>\n",
       "      <td> 0.011340</td>\n",
       "    </tr>\n",
       "    <tr>\n",
       "      <th>1950-01-05</th>\n",
       "      <td> 1950-01-05</td>\n",
       "      <td> 16.93</td>\n",
       "      <td> 16.93</td>\n",
       "      <td> 16.93</td>\n",
       "      <td> 16.93</td>\n",
       "      <td> 2550000</td>\n",
       "      <td> 16.93</td>\n",
       "      <td> 0.016077</td>\n",
       "    </tr>\n",
       "    <tr>\n",
       "      <th>1950-01-06</th>\n",
       "      <td> 1950-01-06</td>\n",
       "      <td> 16.98</td>\n",
       "      <td> 16.98</td>\n",
       "      <td> 16.98</td>\n",
       "      <td> 16.98</td>\n",
       "      <td> 2010000</td>\n",
       "      <td> 16.98</td>\n",
       "      <td> 0.019026</td>\n",
       "    </tr>\n",
       "    <tr>\n",
       "      <th>1950-01-09</th>\n",
       "      <td> 1950-01-09</td>\n",
       "      <td> 17.08</td>\n",
       "      <td> 17.08</td>\n",
       "      <td> 17.08</td>\n",
       "      <td> 17.08</td>\n",
       "      <td> 2520000</td>\n",
       "      <td> 17.08</td>\n",
       "      <td> 0.024898</td>\n",
       "    </tr>\n",
       "  </tbody>\n",
       "</table>\n",
       "</div>"
      ],
      "text/plain": [
       "                  Date   Open   High    Low  Close   Volume  Adjusted Close  \\\n",
       "Date                                                                          \n",
       "1950-01-03  1950-01-03  16.66  16.66  16.66  16.66  1260000           16.66   \n",
       "1950-01-04  1950-01-04  16.85  16.85  16.85  16.85  1890000           16.85   \n",
       "1950-01-05  1950-01-05  16.93  16.93  16.93  16.93  2550000           16.93   \n",
       "1950-01-06  1950-01-06  16.98  16.98  16.98  16.98  2010000           16.98   \n",
       "1950-01-09  1950-01-09  17.08  17.08  17.08  17.08  2520000           17.08   \n",
       "\n",
       "             Returns  \n",
       "Date                  \n",
       "1950-01-03       NaN  \n",
       "1950-01-04  0.011340  \n",
       "1950-01-05  0.016077  \n",
       "1950-01-06  0.019026  \n",
       "1950-01-09  0.024898  "
      ]
     },
     "execution_count": 33,
     "metadata": {},
     "output_type": "execute_result"
    }
   ],
   "source": [
    "from requests import get\n",
    "from pandas import DataFrame\n",
    "from dateutil.parser import parse\n",
    "from numpy import log\n",
    "\n",
    "url = 'http://www.quandl.com/api/v1/datasets/YAHOO/INDEX_GSPC.json?trim_start=1950-01-03&trim_end=2014-08-22&order=asc'\n",
    "response = get(url)\n",
    "sp500_df = DataFrame(response.json()['data'], columns=response.json()['column_names'])\n",
    "sp500_df.index = sp500_df.Date.apply(parse)\n",
    "sp500_df['Returns'] = log(sp500_df['Close'] / sp500_df['Close'].shift(1)).cumsum()\n",
    "sp500_df.head()"
   ]
  },
  {
   "cell_type": "code",
   "execution_count": 34,
   "metadata": {
    "collapsed": false,
    "slideshow": {
     "slide_type": "subslide"
    }
   },
   "outputs": [
    {
     "data": {
      "text/plain": [
       "<matplotlib.axes.AxesSubplot at 0xd8eaeb8>"
      ]
     },
     "execution_count": 34,
     "metadata": {},
     "output_type": "execute_result"
    },
    {
     "data": {
      "image/png": "[encoded data removed]",
      "text/plain": [
       "<matplotlib.figure.Figure at 0xe761f28>"
      ]
     },
     "metadata": {},
     "output_type": "display_data"
    }
   ],
   "source": [
    "sp500_df['Returns'].plot()"
   ]
  },
  {
   "cell_type": "code",
   "execution_count": 36,
   "metadata": {
    "collapsed": false,
    "slideshow": {
     "slide_type": "subslide"
    }
   },
   "outputs": [
    {
     "data": {
      "image/png": "[encoded data removed]",
      "text/plain": [
       "<matplotlib.figure.Figure at 0x103f21d0>"
      ]
     },
     "metadata": {},
     "output_type": "display_data"
    }
   ],
   "source": [
    "from matplotlib.pyplot import figure, plot_date\n",
    "from datetime import timedelta\n",
    "\n",
    "from_dt = win98 - timedelta(days=30)\n",
    "to_dt   = win98 + timedelta(days=90)\n",
    "\n",
    "fig = figure()\n",
    "plot_date(df[from_dt:to_dt].index, df[from_dt:to_dt]['Returns'], 'g-', label='msft', figure=fig)\n",
    "\n",
    "twin = fig.axes[0].twinx()\n",
    "twin.plot_date(sp500_df[from_dt:to_dt].index, sp500_df[from_dt:to_dt]['Returns'], 'b-', label='sp500')\n",
    "\n",
    "fig.axes[0].legend(loc='upper left')\n",
    "twin.legend(loc='upper right')\n",
    "\n",
    "fig.autofmt_xdate()"
   ]
  },
  {
   "cell_type": "code",
   "execution_count": 37,
   "metadata": {
    "collapsed": false,
    "slideshow": {
     "slide_type": "subslide"
    }
   },
   "outputs": [
    {
     "data": {
      "text/html": [
       "\n",
       "        <iframe\n",
       "            width=\"100%\"\n",
       "            height=300\"\n",
       "            src=\"https://en.wikipedia.org/wiki/Timeline_of_Apple_Inc._products\"\n",
       "            frameborder=\"0\"\n",
       "            allowfullscreen\n",
       "        ></iframe>\n",
       "        "
      ],
      "text/plain": [
       "<IPython.lib.display.IFrame at 0xedd8a58>"
      ]
     },
     "execution_count": 37,
     "metadata": {},
     "output_type": "execute_result"
    }
   ],
   "source": [
    "IFrame('https://en.wikipedia.org/wiki/Timeline_of_Apple_Inc._products', width='100%', height=300)"
   ]
  },
  {
   "cell_type": "code",
   "execution_count": 38,
   "metadata": {
    "collapsed": false,
    "slideshow": {
     "slide_type": "subslide"
    }
   },
   "outputs": [
    {
     "data": {
      "text/html": [
       "<div style=\"max-height:1000px;max-width:1500px;overflow:auto;\">\n",
       "<table border=\"1\" class=\"dataframe\">\n",
       "  <thead>\n",
       "    <tr style=\"text-align: right;\">\n",
       "      <th></th>\n",
       "      <th>Date</th>\n",
       "      <th>Open</th>\n",
       "      <th>High</th>\n",
       "      <th>Low</th>\n",
       "      <th>Close</th>\n",
       "      <th>Volume</th>\n",
       "      <th>Returns</th>\n",
       "    </tr>\n",
       "    <tr>\n",
       "      <th>Date</th>\n",
       "      <th></th>\n",
       "      <th></th>\n",
       "      <th></th>\n",
       "      <th></th>\n",
       "      <th></th>\n",
       "      <th></th>\n",
       "      <th></th>\n",
       "    </tr>\n",
       "  </thead>\n",
       "  <tbody>\n",
       "    <tr>\n",
       "      <th>1980-12-12</th>\n",
       "      <td> 1980-12-12</td>\n",
       "      <td> 0</td>\n",
       "      <td> 4.12</td>\n",
       "      <td> 4.11</td>\n",
       "      <td> 4.11</td>\n",
       "      <td> 14657300</td>\n",
       "      <td>      NaN</td>\n",
       "    </tr>\n",
       "    <tr>\n",
       "      <th>1980-12-15</th>\n",
       "      <td> 1980-12-15</td>\n",
       "      <td> 0</td>\n",
       "      <td> 3.91</td>\n",
       "      <td> 3.89</td>\n",
       "      <td> 3.89</td>\n",
       "      <td>  5496400</td>\n",
       "      <td>-0.055014</td>\n",
       "    </tr>\n",
       "    <tr>\n",
       "      <th>1980-12-16</th>\n",
       "      <td> 1980-12-16</td>\n",
       "      <td> 0</td>\n",
       "      <td> 3.62</td>\n",
       "      <td> 3.61</td>\n",
       "      <td> 3.61</td>\n",
       "      <td>  3304000</td>\n",
       "      <td>-0.129715</td>\n",
       "    </tr>\n",
       "    <tr>\n",
       "      <th>1980-12-17</th>\n",
       "      <td> 1980-12-17</td>\n",
       "      <td> 0</td>\n",
       "      <td> 3.71</td>\n",
       "      <td> 3.70</td>\n",
       "      <td> 3.70</td>\n",
       "      <td>  2701300</td>\n",
       "      <td>-0.105090</td>\n",
       "    </tr>\n",
       "    <tr>\n",
       "      <th>1980-12-18</th>\n",
       "      <td> 1980-12-18</td>\n",
       "      <td> 0</td>\n",
       "      <td> 3.82</td>\n",
       "      <td> 3.80</td>\n",
       "      <td> 3.80</td>\n",
       "      <td>  2295300</td>\n",
       "      <td>-0.078422</td>\n",
       "    </tr>\n",
       "  </tbody>\n",
       "</table>\n",
       "</div>"
      ],
      "text/plain": [
       "                  Date  Open  High   Low  Close    Volume   Returns\n",
       "Date                                                               \n",
       "1980-12-12  1980-12-12     0  4.12  4.11   4.11  14657300       NaN\n",
       "1980-12-15  1980-12-15     0  3.91  3.89   3.89   5496400 -0.055014\n",
       "1980-12-16  1980-12-16     0  3.62  3.61   3.61   3304000 -0.129715\n",
       "1980-12-17  1980-12-17     0  3.71  3.70   3.70   2701300 -0.105090\n",
       "1980-12-18  1980-12-18     0  3.82  3.80   3.80   2295300 -0.078422"
      ]
     },
     "execution_count": 38,
     "metadata": {},
     "output_type": "execute_result"
    }
   ],
   "source": [
    "from requests import get\n",
    "from pandas import DataFrame\n",
    "from dateutil.parser import parse\n",
    "from numpy import log\n",
    "\n",
    "iphone = parse('June 29 2007')\n",
    "ipad   = parse('April 30 2010')\n",
    "\n",
    "url = 'http://www.quandl.com/api/v1/datasets/GOOG/NASDAQ_AAPL.json?trim_start=1980-12-12&trim_end=2014-08-22&order=asc'\n",
    "response = get(url)\n",
    "aapl_df = DataFrame(response.json()['data'], columns=response.json()['column_names'])\n",
    "aapl_df.index = aapl_df.Date.apply(parse)\n",
    "aapl_df['Returns'] = log(aapl_df['Close'] / aapl_df['Close'].shift(1)).cumsum()\n",
    "aapl_df.head()"
   ]
  },
  {
   "cell_type": "code",
   "execution_count": 39,
   "metadata": {
    "collapsed": false,
    "slideshow": {
     "slide_type": "subslide"
    }
   },
   "outputs": [
    {
     "data": {
      "text/plain": [
       "<matplotlib.axes.AxesSubplot at 0xef176d8>"
      ]
     },
     "execution_count": 39,
     "metadata": {},
     "output_type": "execute_result"
    },
    {
     "data": {
      "image/png": "[encoded data removed]",
      "text/plain": [
       "<matplotlib.figure.Figure at 0xef177b8>"
      ]
     },
     "metadata": {},
     "output_type": "display_data"
    }
   ],
   "source": [
    "from matplotlib.pyplot import figure, plot_date\n",
    "from datetime import timedelta\n",
    "\n",
    "from_dt = ipad - timedelta(days=30)\n",
    "to_dt   = iphone + timedelta(days=365)\n",
    "\n",
    "aapl_df[from_dt:to_dt]['Returns'].plot()"
   ]
  }
 ],
 "metadata": {
  "celltoolbar": "Slideshow",
  "kernelspec": {
   "display_name": "Python 2",
   "language": "python",
   "name": "python2"
  },
  "language_info": {
   "codemirror_mode": {
    "name": "ipython",
    "version": 2
   },
   "file_extension": ".py",
   "mimetype": "text/x-python",
   "name": "python",
   "nbconvert_exporter": "python",
   "pygments_lexer": "ipython2",
   "version": "2.7.11"
  }
 },
 "nbformat": 4,
 "nbformat_minor": 0
}
